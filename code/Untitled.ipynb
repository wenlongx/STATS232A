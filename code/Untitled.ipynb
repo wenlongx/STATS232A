{
 "cells": [
  {
   "cell_type": "code",
   "execution_count": 7,
   "metadata": {},
   "outputs": [],
   "source": [
    "import numpy as np\n",
    "import sys\n",
    "import matplotlib.pyplot as plt\n",
    "\n",
    "from gaborfilter import gaborfilter"
   ]
  },
  {
   "cell_type": "code",
   "execution_count": 65,
   "metadata": {},
   "outputs": [],
   "source": [
    "def fspecial_gauss(shape=(3,3), sigma=0.5):\n",
    "    '''\n",
    "    equivalent to MATLAB's fspecial('gaussian',...) function\n",
    "    '''\n",
    "\n",
    "    '''\n",
    "      case 'gaussian' % Gaussian filter\n",
    "         siz   = (p2-1)/2;\n",
    "         std   = p3;\n",
    "\n",
    "         [x,y] = meshgrid(-siz(2):siz(2),-siz(1):siz(1));\n",
    "         arg   = -(x.*x + y.*y)/(2*std*std);\n",
    "\n",
    "         h     = exp(arg);\n",
    "         h(h<eps*max(h(:))) = 0;\n",
    "\n",
    "         sumh = sum(h(:));\n",
    "         if sumh ~= 0,\n",
    "           h  = h/sumh;\n",
    "         end;\n",
    "    '''\n",
    "\n",
    "    m, n = [(ss-1.)/2. for ss in shape]\n",
    "    y, x = np.ogrid[-m:m+1,-n:n+1]\n",
    "    h = np.exp(-(x*x + y*y) / (2.*sigma*sigma))\n",
    "    h[h < np.finfo(h.dtype).eps*h.max()] = 0\n",
    "    sumh = h.sum()\n",
    "    return h / sumh if sumh != 0 else 0\n",
    "\n",
    "\n",
    "def fspecial_log(p2, p3):\n",
    "    '''\n",
    "    equivalent to MATLAB's fspecial('log',...) function\n",
    "    '''\n",
    "\n",
    "    '''\n",
    "      case 'log' % Laplacian of Gaussian\n",
    "         % first calculate Gaussian\n",
    "         siz   = (p2-1)/2;\n",
    "         std2   = p3^2;\n",
    "\n",
    "         [x,y] = meshgrid(-siz(2):siz(2),-siz(1):siz(1));\n",
    "         arg   = -(x.*x + y.*y)/(2*std2);\n",
    "\n",
    "         h     = exp(arg);\n",
    "         h(h<eps*max(h(:))) = 0;\n",
    "\n",
    "         sumh = sum(h(:));\n",
    "         if sumh ~= 0,\n",
    "           h  = h/sumh;\n",
    "         end;\n",
    "         % now calculate Laplacian\n",
    "         h1 = h.*(x.*x + y.*y - 2*std2)/(std2^2);\n",
    "         h     = h1 - sum(h1(:))/prod(p2); % make the filter sum to zero\n",
    "    '''\n",
    "    siz = int((p2-1)/2)\n",
    "    std = p3\n",
    "\n",
    "    x = y = np.linspace(-siz, siz, 2*siz+1)\n",
    "    x, y = np.meshgrid(x, y)\n",
    "    arg = -(x**2 + y**2) / (2*std**2)\n",
    "    h = np.exp(arg)\n",
    "    h[h < sys.float_info.epsilon * h.max()] = 0\n",
    "    h = h/h.sum() if h.sum() != 0 else h\n",
    "    h1 = h*(x**2 + y**2 - 2*std**2) / (std**4)\n",
    "    return h1 - h1.mean()"
   ]
  },
  {
   "cell_type": "code",
   "execution_count": 89,
   "metadata": {},
   "outputs": [],
   "source": [
    "def get_filters():\n",
    "    '''\n",
    "    define set of filters\n",
    "    '''\n",
    "    array = lambda x: np.array(x)\n",
    "\n",
    "    \"\"\"\n",
    "    F are filters\n",
    "    \"\"\"\n",
    "\n",
    "    # gradient x, gradient y filters\n",
    "    # size 1 x 2\n",
    "    # FILTER NUMBERS: 0 - 1\n",
    "    F = [array([-1, 1]).reshape((1, 2)), array([-1, 1]).reshape((2, 1))]\n",
    "\n",
    "    # laplacian of the gaussian filter\n",
    "    # for sizes 3x3, 4x4, 5x5\n",
    "    # FILTER NUMBERS: 2 - 4\n",
    "    F += [fspecial_log((i-2)*2+1, (i-2)/3) for i in range(3, 5+1)]\n",
    "\n",
    "    # gabor filters for different angles\n",
    "    # for sizes 7x7, 8x8\n",
    "    # angles 0, 30, 60, 90, 120, 150\n",
    "    # FILTER NUMBERS: 7 - 16\n",
    "    for i in range(7, 8):\n",
    "        for j in range(0, 150+1, 30):\n",
    "            F += gaborfilter(i, j)\n",
    "    \n",
    "    # dirac delta\n",
    "    delta = np.zeros((3, 3))\n",
    "    delta[1,1] = 1\n",
    "    F += [delta]\n",
    "\n",
    "    # pad the rest of the filters with zeros\n",
    "    n_F = len(F)\n",
    "    width, height = np.zeros(n_F), np.zeros(n_F)\n",
    "    filters = np.zeros((n_F, np.max([f.shape[0]*f.shape[1] for f in F])))\n",
    "    for i in range(n_F):\n",
    "        [m, n] = F[i].shape\n",
    "\n",
    "        F[i] = F[i] - np.mean(np.mean(F[i])) * np.ones((m, n))\n",
    "        F[i] = F[i] / np.sum(np.sum(np.abs(F[i])))\n",
    "\n",
    "        filters[i, 0:(m*n)] = np.reshape(F[i], (1, m*n))\n",
    "        height[i] = n\n",
    "        width[i] = m\n",
    "\n",
    "    return F, filters, width, height"
   ]
  },
  {
   "cell_type": "code",
   "execution_count": 90,
   "metadata": {},
   "outputs": [],
   "source": [
    "F, filters, width, height = get_filters()"
   ]
  },
  {
   "cell_type": "code",
   "execution_count": 92,
   "metadata": {},
   "outputs": [
    {
     "data": {
      "text/plain": [
       "<matplotlib.image.AxesImage at 0x11d1f1780>"
      ]
     },
     "execution_count": 92,
     "metadata": {},
     "output_type": "execute_result"
    },
    {
     "data": {
      "image/png": "[encoded data removed]",
      "text/plain": [
       "<Figure size 432x288 with 1 Axes>"
      ]
     },
     "metadata": {
      "needs_background": "light"
     },
     "output_type": "display_data"
    }
   ],
   "source": [
    "plt.imshow(F[-1], cmap=\"Greys\")"
   ]
  },
  {
   "cell_type": "code",
   "execution_count": null,
   "metadata": {},
   "outputs": [],
   "source": []
  }
 ],
 "metadata": {
  "kernelspec": {
   "display_name": "Python 3",
   "language": "python",
   "name": "python3"
  },
  "language_info": {
   "codemirror_mode": {
    "name": "ipython",
    "version": 3
   },
   "file_extension": ".py",
   "mimetype": "text/x-python",
   "name": "python",
   "nbconvert_exporter": "python",
   "pygments_lexer": "ipython3",
   "version": "3.7.0"
  }
 },
 "nbformat": 4,
 "nbformat_minor": 2
}
